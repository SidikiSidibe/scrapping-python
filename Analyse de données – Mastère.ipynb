{
 "cells": [
  {
   "cell_type": "markdown",
   "metadata": {},
   "source": [
    "## EXAMEN Analyse de donnée avec Python :\n",
    "### Sujet : Scrapper l'ensemble des informations des produits du site open food facts.\n",
    "https://fr.openfoodfacts.org\n",
    "\n",
    "#### Année : 2020 - 2021"
   ]
  },
  {
   "cell_type": "markdown",
   "metadata": {},
   "source": [
    "#### Présenté par :\n",
    "| Prénoms       |     Nom         |   \n",
    "| ------------- |: -------------: |\n",
    "| Aboubacar Sidiki        |        SIDIBE        |\n",
    "\n",
    "GROUPE GEMA / IA-SCHOOL"
   ]
  },
  {
   "cell_type": "markdown",
   "metadata": {},
   "source": [
    "### Procédures de scrapping\n",
    "1. Récupérer les url des produits de la page 1\n",
    "2. Récupérer les url des produits sur toutes les pages\n",
    "3. Récupérer pour chaque produits, les informations demandées\n",
    "4. Généralisation ie parcourir l'ensemble des pages pour récupérer les informations demandées"
   ]
  },
  {
   "cell_type": "code",
   "execution_count": 1,
   "metadata": {},
   "outputs": [],
   "source": [
    "#### import des modules\n",
    "import requests\n",
    "from bs4 import BeautifulSoup\n",
    "from IPython import get_ipython\n",
    "import unicodedata\n",
    "import re\n",
    "import numpy as np\n",
    "import time\n",
    "import traceback\n",
    "import datetime"
   ]
  },
  {
   "cell_type": "code",
   "execution_count": 2,
   "metadata": {},
   "outputs": [],
   "source": [
    "urlOpenFoodFact = \"https://fr.openfoodfacts.org\" #### lien du site open food facts"
   ]
  },
  {
   "cell_type": "markdown",
   "metadata": {},
   "source": [
    "1. Récupérer les url des produits de la page 1"
   ]
  },
  {
   "cell_type": "code",
   "execution_count": 3,
   "metadata": {},
   "outputs": [],
   "source": [
    "#### en-tête html utilisée pour la coordination entre le client (navigateur) et le serveur de open food fact, simule le comportement d'un navigateur\n",
    "headers = {\"Accept\": \"image/webp,*/*\",\n",
    "\t\t\t\"Accept-Encoding\": \"gzip, deflate, br\",\n",
    "\t\t\t\"Accept-Language\": \"fr,fr-FR;q=0.8,en-US;q=0.5,en;q=0.3\",\n",
    "\t\t\t\"Connection\": \"keep-alive\",\n",
    "\t\t\t\"User-Agent\": \"Mozilla/5.0 (Windows NT 10.0; Win64; x64; rv:89.0) Gecko/20100101 Firefox/89.0\"\n",
    "\t\t}"
   ]
  },
  {
   "cell_type": "code",
   "execution_count": 4,
   "metadata": {},
   "outputs": [],
   "source": [
    "res = requests.get(urlOpenFoodFact, headers = headers) #### exécute la requêtte get et renvoie la donnée non structuré pour python"
   ]
  },
  {
   "cell_type": "code",
   "execution_count": 5,
   "metadata": {},
   "outputs": [],
   "source": [
    "soupOpenFoodFacts = BeautifulSoup(res.text, 'html.parser') #### parsing du text en html à l'aide de BeautifulSOup"
   ]
  },
  {
   "cell_type": "code",
   "execution_count": 6,
   "metadata": {},
   "outputs": [],
   "source": [
    "productContent = soupOpenFoodFacts.find_all('div', attrs={'id':'search_results'})[0] #### Récupération du contenu de la balise qui contient la liste des produits"
   ]
  },
  {
   "cell_type": "code",
   "execution_count": 7,
   "metadata": {},
   "outputs": [],
   "source": [
    "list_of_produits = productContent.find_all('a', attrs={'class':''}) #### Récupération de la liste des produits"
   ]
  },
  {
   "cell_type": "code",
   "execution_count": 8,
   "metadata": {},
   "outputs": [
    {
     "data": {
      "text/plain": [
       "100"
      ]
     },
     "execution_count": 8,
     "metadata": {},
     "output_type": "execute_result"
    }
   ],
   "source": [
    "len(list_of_produits) #### 100 produits récupérés sur la page"
   ]
  },
  {
   "cell_type": "code",
   "execution_count": 9,
   "metadata": {},
   "outputs": [
    {
     "data": {
      "text/plain": [
       "<a href=\"/produit/3274080005003/cristaline-eau-de-source\" title=\"Cristaline Eau de source - 1,5 l\">\n",
       "<div><img alt=\"Cristaline Eau de source - Produit\" height=\"100\" loading=\"lazy\" src=\"https://static.openfoodfacts.org/images/products/327/408/000/5003/front_fr.626.100.jpg\" srcset=\"https://static.openfoodfacts.org/images/products/327/408/000/5003/front_fr.626.200.jpg 2x\" width=\"30\">\n",
       "</img></div>\n",
       "<span>Cristaline Eau de source - 1,5 l</span>\n",
       "</a>"
      ]
     },
     "execution_count": 9,
     "metadata": {},
     "output_type": "execute_result"
    }
   ],
   "source": [
    "list_of_produits[0] #### prémier élément de la liste des produits"
   ]
  },
  {
   "cell_type": "code",
   "execution_count": 10,
   "metadata": {},
   "outputs": [
    {
     "data": {
      "text/plain": [
       "'/produit/3274080005003/cristaline-eau-de-source'"
      ]
     },
     "execution_count": 10,
     "metadata": {},
     "output_type": "execute_result"
    }
   ],
   "source": [
    "list_of_produits[0]['href'] #### Premier url associé à la premier balise de la page 1"
   ]
  },
  {
   "cell_type": "code",
   "execution_count": 11,
   "metadata": {},
   "outputs": [
    {
     "data": {
      "text/plain": [
       "'/produit/3017620422003/nutella-ferrero'"
      ]
     },
     "execution_count": 11,
     "metadata": {},
     "output_type": "execute_result"
    }
   ],
   "source": [
    "list_of_produits[1]['href'] #### Deuxième url associé à la premier balise de la page 2"
   ]
  },
  {
   "cell_type": "code",
   "execution_count": 12,
   "metadata": {},
   "outputs": [],
   "source": [
    "#### récupérer les urls des produits de la page 1\n",
    "#### on concatène la partie générique du site avec l'url de chaque\n",
    "list_of_urls_product = []\n",
    "for i in range(len(list_of_produits)): #### Pour chaque élément de 0 à 100 (list_of_produits = 100)\n",
    "    list_of_urls_product.append(urlOpenFoodFact+list_of_produits[i]['href']) #### ajout de lien du produit dans la liste des urls de produit"
   ]
  },
  {
   "cell_type": "markdown",
   "metadata": {},
   "source": [
    "2. Récupérer les url des produits sur toutes les pages"
   ]
  },
  {
   "cell_type": "markdown",
   "metadata": {},
   "source": [
    "a) Récupération du numéro de la dernière page du site"
   ]
  },
  {
   "cell_type": "code",
   "execution_count": 13,
   "metadata": {},
   "outputs": [
    {
     "data": {
      "text/plain": [
       "8042"
      ]
     },
     "execution_count": 13,
     "metadata": {},
     "output_type": "execute_result"
    }
   ],
   "source": [
    "paginationContent = soupOpenFoodFacts.find_all('ul', attrs={'class':'pagination'})[0] #### Récupération du contenu de la balise qui contient la pagination\n",
    "num_of_last_page = paginationContent.find_all('a')[-2].text #### Récupération du numéro de la dernière page\n",
    "num_of_last_page = int(num_of_last_page) #### convertion de la chaine en numérique\n",
    "num_of_last_page #### nombre de page disponible à l'exécution"
   ]
  },
  {
   "cell_type": "markdown",
   "metadata": {},
   "source": [
    "b) Construction de tous les liens de la pagination"
   ]
  },
  {
   "cell_type": "code",
   "execution_count": 14,
   "metadata": {},
   "outputs": [
    {
     "name": "stdout",
     "output_type": "stream",
     "text": [
      "Temps d'execution = 0.009764\n"
     ]
    }
   ],
   "source": [
    "tmps1=time.time()\n",
    "####\n",
    "\n",
    "list_of_urls_page = []\n",
    "list_of_urls_page.append(urlOpenFoodFact) #### Ajout du premier url\n",
    "for i in range(2, num_of_last_page+1): #### Pour chaque élément de 2 à num_of_last_page\n",
    "    list_of_urls_page.append(urlOpenFoodFact+\"/\"+str(i)) #### ajout du lien de la page à la liste des urls des pages\n",
    "    \n",
    "####\n",
    "tmps2=time.time()-tmps1\n",
    "print(\"Temps d'execution = %f\" %tmps2)"
   ]
  },
  {
   "cell_type": "code",
   "execution_count": 15,
   "metadata": {},
   "outputs": [],
   "source": [
    "def convert(seconds):\n",
    "    seconds = seconds % (24 * 3600)\n",
    "    hour = seconds // 3600\n",
    "    seconds %= 3600\n",
    "    minutes = seconds // 60\n",
    "    seconds %= 60\n",
    "      \n",
    "    return \"%dh %02dmn %02ds\" % (hour, minutes, seconds)"
   ]
  },
  {
   "cell_type": "code",
   "execution_count": 16,
   "metadata": {},
   "outputs": [
    {
     "data": {
      "text/plain": [
       "8042"
      ]
     },
     "execution_count": 16,
     "metadata": {},
     "output_type": "execute_result"
    }
   ],
   "source": [
    "len(list_of_urls_page) #### nombre total de lien trouvé"
   ]
  },
  {
   "cell_type": "markdown",
   "metadata": {},
   "source": [
    "c) Construction de tous les liens de tous les produits"
   ]
  },
  {
   "cell_type": "code",
   "execution_count": 20,
   "metadata": {},
   "outputs": [
    {
     "name": "stdout",
     "output_type": "stream",
     "text": [
      "Wall time: 1h 20min 57s\n"
     ]
    },
    {
     "data": {
      "text/plain": [
       "299900"
      ]
     },
     "execution_count": 20,
     "metadata": {},
     "output_type": "execute_result"
    }
   ],
   "source": [
    "tmps1=time.time()\n",
    "\n",
    "products_list = [] #### liste vide des liens des produits d'une page\n",
    "all_products_list = [] #### liste vide de tous les liens de tous les produits de toutes les pages\n",
    "for i in range(len(list_of_urls_page)): #### Pour chaque élément de 0 au nombre de page\n",
    "    res = requests.get(list_of_urls_page[i]) #### on exécute la requête pour obtenir les données non structurées\n",
    "    soupOpenFoodFacts = BeautifulSoup(res.text, 'html.parser') #### on parse le texte en html\n",
    "    productContent = soupOpenFoodFacts.find_all('div', attrs={'id':'search_results'})[0] #### on isolé le block qui contient les produits\n",
    "    products_list = productContent.find_all('a', attrs={'class':''}) #### on récupère la liste de tous les produits\n",
    "    for j in range(len(products_list)): #### pour élément de la liste de produits trouvés\n",
    "        all_products_list.append(urlOpenFoodFact+products_list[j]['href']) #### on ajoute le lien du produit dans la liste globale\n",
    "\n",
    "tmps2=time.time()-tmps1\n",
    "print(\"Temps d'execution de récupération de tous les liens des produits = \"+convert(tmps2))\n",
    "\n",
    "len(all_products_list) #### le nombre total de produits trouvés"
   ]
  },
  {
   "cell_type": "code",
   "execution_count": 225,
   "metadata": {},
   "outputs": [
    {
     "name": "stdout",
     "output_type": "stream",
     "text": [
      "Temps d'execution export dataframe images urls = 0h 00mn 02s\n"
     ]
    }
   ],
   "source": [
    "tmps1=time.time()\n",
    "\n",
    "#### export en csv des la liste des liens des produits trouvés\n",
    "import pandas as pd\n",
    "df = pd.DataFrame(all_products_list, columns=['images_url'])\n",
    "df.to_csv('images_url.csv', index=False, encoding='utf-8')\n",
    "\n",
    "####\n",
    "tmps2=time.time()-tmps1\n",
    "print(\"Temps d'execution export dataframe images urls = \"+convert(tmps2))"
   ]
  },
  {
   "cell_type": "markdown",
   "metadata": {},
   "source": [
    "3. Récupérer pour chaque produits, les informations demandées"
   ]
  },
  {
   "cell_type": "code",
   "execution_count": 17,
   "metadata": {},
   "outputs": [],
   "source": [
    "labels_caracteristic_id = ['denomination_generique',\n",
    " 'quantite',\n",
    " 'conditionnement',\n",
    " 'marques',\n",
    " 'categories',\n",
    " 'labels_certifications_recompenses',\n",
    " 'origine_des_ingredients',\n",
    " 'lieux_de_fabrication_ou_de_transformation',\n",
    " 'code_de_tracabilite',\n",
    " 'lien_vers_la_page_du_produit_sur_le_site_officiel_du_fabricant',\n",
    " 'magasins',\n",
    " 'pays_de_vente'] #### liste les labels des caractéristiques des produits transformés en id\n",
    "\n",
    "labels_sub_trace_id = ['substances_ou_produits_provoquant_des_allergies_ou_intolerances','traces_eventuelles'] #### liste les labels des Substances ou produits des produits transformés en id\n",
    "labels_details_analysis = ['additifs', 'vitamines_ajoutees', 'mineraux_ajoutes'] #### liste les labels des Analyse des ingrédients des produits transformés en id"
   ]
  },
  {
   "cell_type": "code",
   "execution_count": 18,
   "metadata": {},
   "outputs": [],
   "source": [
    "def index_in_list(a_list, index):\n",
    "    \"\"\"\n",
    "    vérifie si l'index existe dans une liste\n",
    "    \n",
    "    :param a_list : la liste\n",
    "    :type a_list : List\n",
    "    \n",
    "    :returns : resultat de la vérification 1 si l'index est trouvé sinon 0.\n",
    "    :rtype : boolean.\n",
    "    \"\"\"\n",
    "    return index < len(a_list)"
   ]
  },
  {
   "cell_type": "code",
   "execution_count": 19,
   "metadata": {},
   "outputs": [],
   "source": [
    "def transform_label_to_id(caracteristic_list):\n",
    "    \"\"\"    \n",
    "    tranforme les labels de liste en un id\n",
    "    \n",
    "    :param  caracteristic_list : la liste contenant les labels.\n",
    "    :type caracteristic_list : List.\n",
    "\n",
    "    :returns : la liste avec les labels_id.\n",
    "    :rtype : List.\n",
    "    \"\"\"\n",
    "    for i in range(len(caracteristic_list)):\n",
    "        caracteristic_list[i][0] = text_to_id(caracteristic_list[i][0])\n",
    "    return caracteristic_list"
   ]
  },
  {
   "cell_type": "code",
   "execution_count": 20,
   "metadata": {},
   "outputs": [],
   "source": [
    "def split_list_with_xa0(list_el):\n",
    "    \"\"\"\n",
    "    Split les chaines de caractères disponibles dans une liste. La valeur du split est '\\xa0:'\n",
    "    \n",
    "    :param list_el : liste des chaines de caractères\n",
    "    :type list_el : List\n",
    "    \n",
    "    :return : la liste des chaines de caractères splitées\n",
    "    :rtype : List\n",
    "    \"\"\"\n",
    "    return list(map(lambda x: x.text.split('\\xa0:'),list_el))"
   ]
  },
  {
   "cell_type": "code",
   "execution_count": 21,
   "metadata": {},
   "outputs": [],
   "source": [
    "def check_string_exist(el, list_el):\n",
    "    \"\"\"    \n",
    "    vérifie si un élément existe dans la liste\n",
    "    \n",
    "    :param el : L'element à rechercher dans la liste.\n",
    "    :type el : String.\n",
    "    :param list_el : la liste dans liste le recherche doit être effectuée.\n",
    "    :type list_el : list.\n",
    "\n",
    "    :returns : le resultat de la recherche sous forme boolean.\n",
    "    :rtype : Boolean.\n",
    "    \"\"\"\n",
    "    return list_el.count(el) > 0"
   ]
  },
  {
   "cell_type": "code",
   "execution_count": 22,
   "metadata": {},
   "outputs": [],
   "source": [
    "def strip_accents(text):\n",
    "    \"\"\"\n",
    "    Supprime les accents dans une chaîne de caractère.\n",
    "\n",
    "    :param text : La chaîne de caractères d'entrée.\n",
    "    :type text : Chaîne.\n",
    "\n",
    "    :returns : La chaîne de caractères traitée.\n",
    "    :rtype : String.\n",
    "    \"\"\"\n",
    "    try:\n",
    "        text = unicode(text, 'utf-8') #### chaque caractère est codé par un codepoint UTF-8 représenté par un nombre hexadécimal\n",
    "    except (TypeError, NameError):\n",
    "        pass #### on continue si il y une erreur\n",
    "    text = unicodedata.normalize('NFD', text)\n",
    "    text = text.encode('ascii', 'ignore') #### transforme une str en bytes\n",
    "    text = text.decode(\"utf-8\") #### transforme les bytes en str\n",
    "    return str(text) #### conversion de la valeur retournée en string"
   ]
  },
  {
   "cell_type": "code",
   "execution_count": 23,
   "metadata": {},
   "outputs": [],
   "source": [
    "def text_to_id(text):\n",
    "    \"\"\"\n",
    "    Convertit le texte d'entrée en identifiant.\n",
    "\n",
    "    :param text : La chaîne de caractères d'entrée.\n",
    "    :type text : Chaîne.\n",
    "\n",
    "    :returns : La chaîne de caractères traitée.\n",
    "    :rtype : String.\n",
    "    \"\"\"\n",
    "    text = strip_accents(text.lower()) #### on supprime les accents\n",
    "    text = re.sub('[ ]+', '_', text) #### on remplace les espaces par un tiret de 8 (_)\n",
    "    text = re.sub('[^0-9a-zA-Z_-]', '', text) #### on supprime les valeurs numériques\n",
    "    return text #### l'identifiant de la chaine est retourné"
   ]
  },
  {
   "cell_type": "code",
   "execution_count": 24,
   "metadata": {},
   "outputs": [],
   "source": [
    "def get_label_id_list(label_list):\n",
    "    \"\"\"    \n",
    "    récupère la liste des label_id contenu dans la liste\n",
    "    \n",
    "    :param  label_list : la liste contenant les labels_id.\n",
    "    :type label_list : List.\n",
    "\n",
    "    :returns : la liste avec les labels_id.\n",
    "    :rtype : List.\n",
    "    \"\"\"\n",
    "    label_id_list = [] #### on initialise la liste des id\n",
    "    for i in range(len(label_list)): #### pour chaque élément de la liste\n",
    "        label_id_list.append(text_to_id(label_list[i][0].strip())) #### on ajoute dans la liste les ids récuperés\n",
    "    return label_id_list"
   ]
  },
  {
   "cell_type": "code",
   "execution_count": 25,
   "metadata": {},
   "outputs": [],
   "source": [
    "def delete_detail_value(list_el):\n",
    "    \"\"\"\n",
    "    Supprime dans la liste l'élément dont la valeur est égale à '_detail_de_lanalyse_des_ingredients__'\n",
    "    \n",
    "    :param list_el : liste des éléments\n",
    "    :type list_el : List\n",
    "    \n",
    "    :return : la liste sans la valeur du filtre\n",
    "    :rtype : List\n",
    "    \"\"\"\n",
    "    index_list = []\n",
    "    for i in range(len(list_el)): #### pour chaque élément de la liste\n",
    "        value = str(list_el[i][0])\n",
    "        if(value == '_detail_de_lanalyse_des_ingredients__' or value == '_detail_de_lanalyse_des_ingredients__nous_avons_besoin_de_votre_aide_' or value == '_si_ce_produit_a_une_liste_dingredients_en_francais_merci_de_lajouter_modifier_la_fiche'): #### on vérifie si le premier élément est égale à '_detail_de_lanalyse_des_ingredients__'\n",
    "             index_list.append(i) #### on stock l'index du item à supprimer dans la liste\n",
    "    for j in index_list: del list_el[j] #### on supprime l'élément de la liste à l'index indiqué\n",
    "    return list_el"
   ]
  },
  {
   "cell_type": "code",
   "execution_count": 26,
   "metadata": {},
   "outputs": [],
   "source": [
    "def get_value_from_list(key, list_el):\n",
    "    \"\"\"    \n",
    "    récupère la valeur associée à la clé passée en paramètre dans le dictionnaire\n",
    "    \n",
    "    :param  list_el : la liste des valeurs.\n",
    "    :type list_el : List.\n",
    "    \n",
    "    :param  key : la clé.\n",
    "    :type key : string\n",
    "\n",
    "    :returns : la valeur associée à la clé du dictionnaire.\n",
    "    :rtype : String.\n",
    "    \"\"\"\n",
    "    list_el = delete_detail_value(list_el)\n",
    "    list_el_dict = dict(list_el) #### on convertie la liste en dictionnaire\n",
    "    return list_el_dict[key].strip() #### on retourne la valeur du dictionnaire donc la clé est 'key'"
   ]
  },
  {
   "cell_type": "code",
   "execution_count": 27,
   "metadata": {},
   "outputs": [],
   "source": [
    "def build_caracteritics_product_values(label_id_list,list_el):\n",
    "    \"\"\"    \n",
    "    récupère la liste des label_id contenu dans la liste\n",
    "    \n",
    "    :param  label_list : la liste des éléments\n",
    "    :type label_list : List.\n",
    "    \n",
    "    :param  label_id_list : la liste des ids.\n",
    "    :type label_list : List.\n",
    "\n",
    "    :returns : la liste avec les labels_id.\n",
    "    :rtype : List.\n",
    "    \"\"\"\n",
    "    all_caracteristic_list = [] #### on initialise la liste à retourner\n",
    "    list_el = split_list_with_xa0(list_el) #### on split les contenus de la liste\n",
    "    list_el = transform_label_to_id(list_el) #### on transforme les labels de la liste en id\n",
    "    caracteristic_list_id = get_label_id_list(list_el) #### on récupère la liste des labels\n",
    "    for i in range(len(label_id_list)): #### pour chaque élément de la liste des ids\n",
    "        if check_string_exist(label_id_list[i], caracteristic_list_id): #### on vérifie si un élément de la label_id_list à la position i se trouve dans la liste id\n",
    "            all_caracteristic_list.append([label_id_list[i],get_value_from_list(label_id_list[i], list_el)]) #### on ajoute la valeur de la clé trouve dans le dictionnaire\n",
    "        else: #### sinon\n",
    "            all_caracteristic_list.append([label_id_list[i],'XXX']) #### on ajoute la valeur 'XXX'\n",
    "    return dict(all_caracteristic_list)"
   ]
  },
  {
   "cell_type": "code",
   "execution_count": 28,
   "metadata": {},
   "outputs": [],
   "source": [
    "def parse_string(value):\n",
    "    \"\"\"\n",
    "    Parse la chaine en supprimant \\n \\t \\r\n",
    "    \n",
    "    :param value : la valeur de la chaine à parser\n",
    "    :type value : String\n",
    "    \n",
    "    :return : la chaine parsée\n",
    "    :rtype : String\n",
    "    \"\"\"\n",
    "    if value is np.nan:\n",
    "        return value\n",
    "    else:\n",
    "        chaine = value.replace('\\n', ',')\n",
    "        chaine = \" \".join(chaine.split()).rstrip(',').strip(',').strip()\n",
    "        return chaine"
   ]
  },
  {
   "cell_type": "code",
   "execution_count": 29,
   "metadata": {},
   "outputs": [],
   "source": [
    "def get_ingredient_analysis(content):\n",
    "    \"\"\"\n",
    "    récupère l'analyse des ingrédients à partir du contenu\n",
    "    \n",
    "    :param content : le block contenant le resulta de l'analyse\n",
    "    :type content : list html\n",
    "    \n",
    "    :return : \n",
    "    \"\"\"\n",
    "    if len(content) == 0:\n",
    "        return {'ingredients_analysis': 'XXX'}\n",
    "    content_split = split_list_with_xa0(content)\n",
    "    for el in content_split:\n",
    "        el[1] = parse_string(el[1])\n",
    "    return {'ingredients_analysis': el[1]}"
   ]
  },
  {
   "cell_type": "code",
   "execution_count": 30,
   "metadata": {},
   "outputs": [],
   "source": [
    "def get_compare_value(label_list, value_list):\n",
    "    \"\"\"    \n",
    "    récupère la comparaison avec les valeurs moyennes des produits de même catégorie\n",
    "    \n",
    "    :param  label_list : la liste des labels\n",
    "    :type label_list : List.\n",
    "    \n",
    "    :param  value_list : la liste des valeurs.\n",
    "    :type value_list : List.\n",
    "\n",
    "    :returns : la chaine contenant les valeurs moyennes.\n",
    "    :rtype : String.\n",
    "    \"\"\"\n",
    "    compare_value = ''\n",
    "    if len(value_list) > len(label_list):\n",
    "        value_list = value_list[1:0]\n",
    "    for i in range(len(compare_label_list)):\n",
    "        compare_value = (compare_label_list[i]+compare_value_list[i]) + ',' + compare_value if len(compare_label_list) and len(compare_value_list) else 'XXX'\n",
    "    return compare_value if compare_value != '' else 'XXX'"
   ]
  },
  {
   "cell_type": "code",
   "execution_count": 31,
   "metadata": {},
   "outputs": [],
   "source": [
    "def get_infos_nutri(tr_table):\n",
    "    \"\"\"    \n",
    "    récupère la table sur les informations nutritionnelles\n",
    "    \n",
    "    :param  tr_table : la liste des éléments de la table.\n",
    "    :type tr_table : List.\n",
    "\n",
    "    :returns : un dictionnaire de données.\n",
    "    :rtype : List.\n",
    "    \"\"\"\n",
    "    item = []\n",
    "    all_items = []\n",
    "    if len(tr_table) == 0:\n",
    "            return [['energie_kj', 'XXX'],['energie_kcal', 'XXX'],['energie', 'XXX'],['matieres_grasses__lipides', 'XXX'],['glucides', 'XXX'],['proteines', 'XXX'],['sel', 'XXX'],['score_nutritionnel_-_france', 'XXX']]\n",
    "    for i in range(len(tr_table)):\n",
    "        item = []\n",
    "        item.append(text_to_id(parse_string(tr_table[i].find('td', attrs={'class':'nutriment_label'}).text)))\n",
    "        item.append(parse_string(tr_table[i].find('td', attrs={'class':'nutriment_value'}).text if tr_table[0].find('td', attrs={'class':'nutriment_value'}) else 'XXX'))\n",
    "        all_items.append(item)\n",
    "    return dict(all_items)"
   ]
  },
  {
   "cell_type": "code",
   "execution_count": 32,
   "metadata": {},
   "outputs": [],
   "source": [
    "soupProduct = BeautifulSoup(requests.get('https://fr.openfoodfacts.org/produit/3017620422003/nutella-ferrero').text, 'html.parser') #### récupération du html et parsing"
   ]
  },
  {
   "cell_type": "code",
   "execution_count": 33,
   "metadata": {},
   "outputs": [],
   "source": [
    "contentInfos = soupProduct.find_all('div', attrs={'itemscope':'', 'itemtype':'https://schema.org/Product'})[0] if len(soupProduct.find_all('div', attrs={'itemscope':'', 'itemtype':'https://schema.org/Product'})) else soupProduct.find_all('div', attrs={'itemscope':'', 'itemtype':'https://schema.org/DietarySupplement'})[0] if len(soupProduct.find_all('div', attrs={'itemscope':'', 'itemtype':'https://schema.org/Product'})[0] if len(soupProduct.find_all('div', attrs={'itemscope':'', 'itemtype':'https://schema.org/Product'})) else soupProduct.find_all('div', attrs={'itemscope':'', 'itemtype':'https://schema.org/DietarySupplement'})) else [] #### récupération de la balise qui contient les informations démandées"
   ]
  },
  {
   "cell_type": "code",
   "execution_count": 34,
   "metadata": {},
   "outputs": [
    {
     "data": {
      "text/plain": [
       "'4'"
      ]
     },
     "execution_count": 34,
     "metadata": {},
     "output_type": "execute_result"
    }
   ],
   "source": [
    "#### nova score\n",
    "contentInfos.find_all('a',href='/nova')[1].find('img')['alt'].split('-')[0].strip() if index_in_list(contentInfos.find_all('a',href='/nova'),1) else 'XXX'"
   ]
  },
  {
   "cell_type": "code",
   "execution_count": 35,
   "metadata": {},
   "outputs": [
    {
     "data": {
      "text/plain": [
       "'E'"
      ]
     },
     "execution_count": 35,
     "metadata": {},
     "output_type": "execute_result"
    }
   ],
   "source": [
    "#### nutriscore\n",
    "contentInfos.find_all('a',href='/nutriscore')[1].find('img')['alt'].split(':')[1].strip() if index_in_list(contentInfos.find_all('a',href='/nutriscore'),1) else 'XXX'"
   ]
  },
  {
   "cell_type": "code",
   "execution_count": 144,
   "metadata": {},
   "outputs": [
    {
     "data": {
      "text/plain": [
       "'D'"
      ]
     },
     "execution_count": 144,
     "metadata": {},
     "output_type": "execute_result"
    }
   ],
   "source": [
    "#### ecoscore\n",
    "contentInfos.find_all('a',href='/ecoscore')[2].find('img')['alt'].split(' ')[1].strip() if index_in_list(contentInfos.find_all('a',href='/ecoscore'),1) else 'XXX'"
   ]
  },
  {
   "cell_type": "code",
   "execution_count": 87,
   "metadata": {},
   "outputs": [
    {
     "data": {
      "text/plain": [
       "'NESTLE CHOCAPIC Céréales Petit Déjeuner - 430\\xa0g'"
      ]
     },
     "execution_count": 87,
     "metadata": {},
     "output_type": "execute_result"
    }
   ],
   "source": [
    "#### Nom du Produit\n",
    "contentInfos.find_all('h1', attrs={'property':'food:name'})[0].text"
   ]
  },
  {
   "cell_type": "code",
   "execution_count": 88,
   "metadata": {},
   "outputs": [
    {
     "data": {
      "text/plain": [
       "'7613034626844'"
      ]
     },
     "execution_count": 88,
     "metadata": {},
     "output_type": "execute_result"
    }
   ],
   "source": [
    "#### Code-barres (EAN/EAN-13)\n",
    "contentInfos.find_all('span', attrs={'property':'food:code'})[0].text if index_in_list(contentInfos.find_all('span', attrs={'property':'food:code'}),0) else 'XXX'"
   ]
  },
  {
   "cell_type": "code",
   "execution_count": 90,
   "metadata": {},
   "outputs": [],
   "source": [
    "caracteristicsContent = contentInfos.find_all('div', attrs={'class':'medium-12 large-8 xlarge-8 xxlarge-8 columns'})[0] #### block qui contient les informations sur les caractéristiques d'un produit"
   ]
  },
  {
   "cell_type": "code",
   "execution_count": 54,
   "metadata": {},
   "outputs": [
    {
     "data": {
      "text/plain": [
       "{'denomination_generique': 'Eau de source naturelle',\n",
       " 'quantite': '1,5 l',\n",
       " 'conditionnement': 'Bouteille, Plastique, Bouchon',\n",
       " 'marques': 'Cristaline',\n",
       " 'categories': 'Boissons, Eaux, Eaux de sources, Eaux minérales, Eaux minérales naturelles',\n",
       " 'labels_certifications_recompenses': 'Point Vert, en:Triman, Sans nitrate',\n",
       " 'origine_des_ingredients': 'France',\n",
       " 'lieux_de_fabrication_ou_de_transformation': 'France, 72370, Ardenay-sur-Merize',\n",
       " 'code_de_tracabilite': 'EMB 44068A - Guenrouet (Loire-Atlantique, France), EMB 59457 - Pérenchies (Nord, France), EMB 72007B - Ardenay-sur-Mérize (Sarthe, France)',\n",
       " 'lien_vers_la_page_du_produit_sur_le_site_officiel_du_fabricant': 'https://www.moneaucristaline.fr/',\n",
       " 'magasins': 'Carrefour, Leclerc, Auchan',\n",
       " 'pays_de_vente': \"Côte d'Ivoire, France, Guadeloupe, Italie, Luxembourg, Mali, Martinique, en:Allemagne, en:Belgique, en:Nouvelle-Calédonie, en:Royaume-Uni, en:Suisse, en:États-Unis\"}"
      ]
     },
     "execution_count": 54,
     "metadata": {},
     "output_type": "execute_result"
    }
   ],
   "source": [
    "#### caractéristiques des produits\n",
    "caracteristic_list = caracteristicsContent.findAll('p') #### on récupère le bloc qui contient les caractéristiques des produits\n",
    "build_caracteritics_product_values(labels_caracteristic_id, caracteristic_list) #### on construit un dictionnaire avec les valeurs trouvées"
   ]
  },
  {
   "cell_type": "code",
   "execution_count": 91,
   "metadata": {},
   "outputs": [],
   "source": [
    "ingredientsContent = contentInfos.find_all('div', attrs={'class':'medium-12 large-8 xlarge-8 xxlarge-8 columns'})[1]"
   ]
  },
  {
   "cell_type": "code",
   "execution_count": 92,
   "metadata": {},
   "outputs": [
    {
     "data": {
      "text/plain": [
       "\"BLE complet 33,5%, chocolat en poudre 22,8% (sucre, cacao en poudre), farine de BLE 16,8%, semoule de maïs, sirop de glucose, sucre, extrait de malt d'ORGE (ORGE, ORGE malté), huile de tournesol, carbonate de calcium, émulsifiant : lécithine de tournesol ; sel, arômes naturels, fer, vitamines B3, B5, D, B6, B1, B2 et B9. Peut contenir du lait, des arachides et des fruits à coque.\""
      ]
     },
     "execution_count": 92,
     "metadata": {},
     "output_type": "execute_result"
    }
   ],
   "source": [
    "#### liste des ingrédients\n",
    "ingredient_list = ingredientsContent.find_all('div', attrs={'property':'food:ingredientListAsText'})[0].text if ingredientsContent.find_all('div', attrs={'property':'food:ingredientListAsText'}) else 'XXX'\n",
    "ingredient_list"
   ]
  },
  {
   "cell_type": "code",
   "execution_count": 57,
   "metadata": {},
   "outputs": [
    {
     "data": {
      "text/plain": [
       "{'substances_ou_produits_provoquant_des_allergies_ou_intolerances': 'XXX',\n",
       " 'traces_eventuelles': 'XXX'}"
      ]
     },
     "execution_count": 57,
     "metadata": {},
     "output_type": "execute_result"
    }
   ],
   "source": [
    "#### Substances ou produits provoquant des allergies ou intolérances :\n",
    "sub_trace_list = ingredientsContent.find_all('p', attrs={'class':'', 'id':''})[:2]\n",
    "build_caracteritics_product_values(labels_sub_trace_id, sub_trace_list)"
   ]
  },
  {
   "cell_type": "code",
   "execution_count": 60,
   "metadata": {},
   "outputs": [
    {
     "data": {
      "text/plain": [
       "{'ingredients_analysis': \"Sans huile de palme, ,,Végétalien, ,,Végétarien, ,,→ L'analyse est basée uniquement sur les ingrédients listés et ne prend pas en compte les méthodes de fabrication.\"}"
      ]
     },
     "execution_count": 60,
     "metadata": {},
     "output_type": "execute_result"
    }
   ],
   "source": [
    "#### Analyse des ingrédients :\n",
    "ingredients_analysis = ingredientsContent.find_all('p', attrs={'id':'ingredients_analysis'})\n",
    "get_ingredient_analysis(ingredients_analysis)"
   ]
  },
  {
   "cell_type": "code",
   "execution_count": 61,
   "metadata": {},
   "outputs": [],
   "source": [
    "#### Détail de l'analyse des ingrédients:\n",
    "detail_analysis = ingredientsContent.find_all('div', attrs={'class':'columns'})"
   ]
  },
  {
   "cell_type": "code",
   "execution_count": 62,
   "metadata": {},
   "outputs": [
    {
     "data": {
      "text/plain": [
       "{'additifs': 'XXX', 'vitamines_ajoutees': 'XXX', 'mineraux_ajoutes': 'XXX'}"
      ]
     },
     "execution_count": 62,
     "metadata": {},
     "output_type": "execute_result"
    }
   ],
   "source": [
    "build_caracteritics_product_values(labels_details_analysis, detail_analysis)"
   ]
  },
  {
   "cell_type": "code",
   "execution_count": 63,
   "metadata": {},
   "outputs": [],
   "source": [
    "nutritionnelle_content = contentInfos.find_all('div', attrs={'class':'medium-12 large-8 xlarge-8 xxlarge-8 columns'})[2] if len(contentInfos.find_all('div', attrs={'class':'medium-12 large-8 xlarge-8 xxlarge-8 columns'})) != 0 else []"
   ]
  },
  {
   "cell_type": "code",
   "execution_count": 64,
   "metadata": {},
   "outputs": [],
   "source": [
    "#### Repères nutritionnels pour 100 g\n",
    "repere_nutri = parse_string(nutritionnelle_content.find_all('div', attrs={'class':'small-12 xlarge-6 columns'})[1].text).split(',,,,')[1].strip() if index_in_list(nutritionnelle_content.find_all('div', attrs={'class':'small-12 xlarge-6 columns'}),1) and index_in_list((nutritionnelle_content.find_all('div', attrs={'class':'small-12 xlarge-6 columns'})[1].text).split(',,,,'),1) else 'XXX'"
   ]
  },
  {
   "cell_type": "code",
   "execution_count": 65,
   "metadata": {},
   "outputs": [],
   "source": [
    "#### Comparaison avec les valeurs moyennes des produits de même catégorie : \n",
    "compare_label_list = list(map(lambda x: parse_string(x.text), nutritionnelle_content.find_all('label')))[:-2] if len(nutritionnelle_content) != 0 else [] "
   ]
  },
  {
   "cell_type": "code",
   "execution_count": 67,
   "metadata": {},
   "outputs": [],
   "source": [
    "compare_value_list = list(map(lambda x:x.text.strip(), nutritionnelle_content.find_all('a' , attrs={'title':''}))) if nutritionnelle_content.find_all('a' , attrs={'title':''}) and len(nutritionnelle_content) else []"
   ]
  },
  {
   "cell_type": "code",
   "execution_count": 70,
   "metadata": {},
   "outputs": [
    {
     "data": {
      "text/plain": [
       "'Boissons(1599 produits),Eaux(1044 produits),Eaux de sources(859 produits),Eaux minérales(355 produits),Eaux minérales naturellesDétail du calcul du Nutri-Score »,'"
      ]
     },
     "execution_count": 70,
     "metadata": {},
     "output_type": "execute_result"
    }
   ],
   "source": [
    "get_compare_value(compare_label_list, compare_value_list)"
   ]
  },
  {
   "cell_type": "code",
   "execution_count": 71,
   "metadata": {},
   "outputs": [],
   "source": [
    "nutritionnelle_table = nutritionnelle_content.find_all('table', attrs={'id':'nutrition_data_table', 'class':'data_table'})[0] if nutritionnelle_content and nutritionnelle_content.find_all('table', attrs={'id':'nutrition_data_table', 'class':'data_table'}) else []"
   ]
  },
  {
   "cell_type": "code",
   "execution_count": 72,
   "metadata": {},
   "outputs": [],
   "source": [
    "tr_table = nutritionnelle_table.find_all('tr', attrs={'class':'nutriment_main'}) if len(nutritionnelle_table) and nutritionnelle_table.find_all('tr', attrs={'class':'nutriment_main'}) else []"
   ]
  },
  {
   "cell_type": "code",
   "execution_count": 75,
   "metadata": {},
   "outputs": [
    {
     "data": {
      "text/plain": [
       "{'energie_kj': '0 kj',\n",
       " 'energie_kcal': '0 kcal',\n",
       " 'energie': '0 kj(0 kcal)',\n",
       " 'matieres_grasses__lipides': '0 g',\n",
       " 'glucides': '0 g',\n",
       " 'fibres_alimentaires': '0 g',\n",
       " 'proteines': '0 g',\n",
       " 'sel': '0,02 g',\n",
       " 'alcool': '0 % vol',\n",
       " 'silice': '26 mg',\n",
       " 'bicarbonate': '473 mg',\n",
       " 'potassium': '19 mg',\n",
       " 'chlorure': '33 mg',\n",
       " 'calcium': '75 mg',\n",
       " 'magnesium': '26 mg',\n",
       " 'fluorure': '1 mg',\n",
       " 'score_nutritionnel_-_france': '0',\n",
       " 'nitrate': '2 mg',\n",
       " 'sulfate': '63 mg'}"
      ]
     },
     "execution_count": 75,
     "metadata": {},
     "output_type": "execute_result"
    }
   ],
   "source": [
    "#### Informations nutritionnelles\n",
    "information_nutritionnelle = get_infos_nutri(tr_table)\n",
    "information_nutritionnelle"
   ]
  },
  {
   "cell_type": "code",
   "execution_count": 76,
   "metadata": {},
   "outputs": [],
   "source": [
    "#### recyclage\n",
    "recyclage_content = contentInfos.find_all('div', attrs={'class':'medium-12 large-8 xlarge-8 xxlarge-8 columns'})[3] if len(contentInfos) and contentInfos.find_all('div', attrs={'class':'medium-12 large-8 xlarge-8 xxlarge-8 columns'}) else []"
   ]
  },
  {
   "cell_type": "code",
   "execution_count": 77,
   "metadata": {},
   "outputs": [
    {
     "data": {
      "text/plain": [
       "'1 bouteille en plastique transparent PET de 1.5 L à recycler, 1 bouchon en plastique opaque à recycler'"
      ]
     },
     "execution_count": 77,
     "metadata": {},
     "output_type": "execute_result"
    }
   ],
   "source": [
    "recyclage = parse_string(recyclage_content.find('p').text) if len(recyclage_content) else 'XXX'\n",
    "recyclage"
   ]
  },
  {
   "cell_type": "markdown",
   "metadata": {},
   "source": [
    "4. Généralisation ie parcourir l'ensemble des pages pour récupérer les informations demandées"
   ]
  },
  {
   "cell_type": "code",
   "execution_count": 227,
   "metadata": {},
   "outputs": [
    {
     "ename": "KeyboardInterrupt",
     "evalue": "",
     "output_type": "error",
     "traceback": [
      "\u001b[1;31m---------------------------------------------------------------------------\u001b[0m",
      "\u001b[1;31mKeyboardInterrupt\u001b[0m                         Traceback (most recent call last)",
      "\u001b[1;32m<timed exec>\u001b[0m in \u001b[0;36m<module>\u001b[1;34m\u001b[0m\n",
      "\u001b[1;32m~\\anaconda3\\lib\\site-packages\\requests\\api.py\u001b[0m in \u001b[0;36mget\u001b[1;34m(url, params, **kwargs)\u001b[0m\n\u001b[0;32m     74\u001b[0m \u001b[1;33m\u001b[0m\u001b[0m\n\u001b[0;32m     75\u001b[0m     \u001b[0mkwargs\u001b[0m\u001b[1;33m.\u001b[0m\u001b[0msetdefault\u001b[0m\u001b[1;33m(\u001b[0m\u001b[1;34m'allow_redirects'\u001b[0m\u001b[1;33m,\u001b[0m \u001b[1;32mTrue\u001b[0m\u001b[1;33m)\u001b[0m\u001b[1;33m\u001b[0m\u001b[1;33m\u001b[0m\u001b[0m\n\u001b[1;32m---> 76\u001b[1;33m     \u001b[1;32mreturn\u001b[0m \u001b[0mrequest\u001b[0m\u001b[1;33m(\u001b[0m\u001b[1;34m'get'\u001b[0m\u001b[1;33m,\u001b[0m \u001b[0murl\u001b[0m\u001b[1;33m,\u001b[0m \u001b[0mparams\u001b[0m\u001b[1;33m=\u001b[0m\u001b[0mparams\u001b[0m\u001b[1;33m,\u001b[0m \u001b[1;33m**\u001b[0m\u001b[0mkwargs\u001b[0m\u001b[1;33m)\u001b[0m\u001b[1;33m\u001b[0m\u001b[1;33m\u001b[0m\u001b[0m\n\u001b[0m\u001b[0;32m     77\u001b[0m \u001b[1;33m\u001b[0m\u001b[0m\n\u001b[0;32m     78\u001b[0m \u001b[1;33m\u001b[0m\u001b[0m\n",
      "\u001b[1;32m~\\anaconda3\\lib\\site-packages\\requests\\api.py\u001b[0m in \u001b[0;36mrequest\u001b[1;34m(method, url, **kwargs)\u001b[0m\n\u001b[0;32m     59\u001b[0m     \u001b[1;31m# cases, and look like a memory leak in others.\u001b[0m\u001b[1;33m\u001b[0m\u001b[1;33m\u001b[0m\u001b[1;33m\u001b[0m\u001b[0m\n\u001b[0;32m     60\u001b[0m     \u001b[1;32mwith\u001b[0m \u001b[0msessions\u001b[0m\u001b[1;33m.\u001b[0m\u001b[0mSession\u001b[0m\u001b[1;33m(\u001b[0m\u001b[1;33m)\u001b[0m \u001b[1;32mas\u001b[0m \u001b[0msession\u001b[0m\u001b[1;33m:\u001b[0m\u001b[1;33m\u001b[0m\u001b[1;33m\u001b[0m\u001b[0m\n\u001b[1;32m---> 61\u001b[1;33m         \u001b[1;32mreturn\u001b[0m \u001b[0msession\u001b[0m\u001b[1;33m.\u001b[0m\u001b[0mrequest\u001b[0m\u001b[1;33m(\u001b[0m\u001b[0mmethod\u001b[0m\u001b[1;33m=\u001b[0m\u001b[0mmethod\u001b[0m\u001b[1;33m,\u001b[0m \u001b[0murl\u001b[0m\u001b[1;33m=\u001b[0m\u001b[0murl\u001b[0m\u001b[1;33m,\u001b[0m \u001b[1;33m**\u001b[0m\u001b[0mkwargs\u001b[0m\u001b[1;33m)\u001b[0m\u001b[1;33m\u001b[0m\u001b[1;33m\u001b[0m\u001b[0m\n\u001b[0m\u001b[0;32m     62\u001b[0m \u001b[1;33m\u001b[0m\u001b[0m\n\u001b[0;32m     63\u001b[0m \u001b[1;33m\u001b[0m\u001b[0m\n",
      "\u001b[1;32m~\\anaconda3\\lib\\site-packages\\requests\\sessions.py\u001b[0m in \u001b[0;36mrequest\u001b[1;34m(self, method, url, params, data, headers, cookies, files, auth, timeout, allow_redirects, proxies, hooks, stream, verify, cert, json)\u001b[0m\n\u001b[0;32m    528\u001b[0m         }\n\u001b[0;32m    529\u001b[0m         \u001b[0msend_kwargs\u001b[0m\u001b[1;33m.\u001b[0m\u001b[0mupdate\u001b[0m\u001b[1;33m(\u001b[0m\u001b[0msettings\u001b[0m\u001b[1;33m)\u001b[0m\u001b[1;33m\u001b[0m\u001b[1;33m\u001b[0m\u001b[0m\n\u001b[1;32m--> 530\u001b[1;33m         \u001b[0mresp\u001b[0m \u001b[1;33m=\u001b[0m \u001b[0mself\u001b[0m\u001b[1;33m.\u001b[0m\u001b[0msend\u001b[0m\u001b[1;33m(\u001b[0m\u001b[0mprep\u001b[0m\u001b[1;33m,\u001b[0m \u001b[1;33m**\u001b[0m\u001b[0msend_kwargs\u001b[0m\u001b[1;33m)\u001b[0m\u001b[1;33m\u001b[0m\u001b[1;33m\u001b[0m\u001b[0m\n\u001b[0m\u001b[0;32m    531\u001b[0m \u001b[1;33m\u001b[0m\u001b[0m\n\u001b[0;32m    532\u001b[0m         \u001b[1;32mreturn\u001b[0m \u001b[0mresp\u001b[0m\u001b[1;33m\u001b[0m\u001b[1;33m\u001b[0m\u001b[0m\n",
      "\u001b[1;32m~\\anaconda3\\lib\\site-packages\\requests\\sessions.py\u001b[0m in \u001b[0;36msend\u001b[1;34m(self, request, **kwargs)\u001b[0m\n\u001b[0;32m    641\u001b[0m \u001b[1;33m\u001b[0m\u001b[0m\n\u001b[0;32m    642\u001b[0m         \u001b[1;31m# Send the request\u001b[0m\u001b[1;33m\u001b[0m\u001b[1;33m\u001b[0m\u001b[1;33m\u001b[0m\u001b[0m\n\u001b[1;32m--> 643\u001b[1;33m         \u001b[0mr\u001b[0m \u001b[1;33m=\u001b[0m \u001b[0madapter\u001b[0m\u001b[1;33m.\u001b[0m\u001b[0msend\u001b[0m\u001b[1;33m(\u001b[0m\u001b[0mrequest\u001b[0m\u001b[1;33m,\u001b[0m \u001b[1;33m**\u001b[0m\u001b[0mkwargs\u001b[0m\u001b[1;33m)\u001b[0m\u001b[1;33m\u001b[0m\u001b[1;33m\u001b[0m\u001b[0m\n\u001b[0m\u001b[0;32m    644\u001b[0m \u001b[1;33m\u001b[0m\u001b[0m\n\u001b[0;32m    645\u001b[0m         \u001b[1;31m# Total elapsed time of the request (approximately)\u001b[0m\u001b[1;33m\u001b[0m\u001b[1;33m\u001b[0m\u001b[1;33m\u001b[0m\u001b[0m\n",
      "\u001b[1;32m~\\anaconda3\\lib\\site-packages\\requests\\adapters.py\u001b[0m in \u001b[0;36msend\u001b[1;34m(self, request, stream, timeout, verify, cert, proxies)\u001b[0m\n\u001b[0;32m    437\u001b[0m         \u001b[1;32mtry\u001b[0m\u001b[1;33m:\u001b[0m\u001b[1;33m\u001b[0m\u001b[1;33m\u001b[0m\u001b[0m\n\u001b[0;32m    438\u001b[0m             \u001b[1;32mif\u001b[0m \u001b[1;32mnot\u001b[0m \u001b[0mchunked\u001b[0m\u001b[1;33m:\u001b[0m\u001b[1;33m\u001b[0m\u001b[1;33m\u001b[0m\u001b[0m\n\u001b[1;32m--> 439\u001b[1;33m                 resp = conn.urlopen(\n\u001b[0m\u001b[0;32m    440\u001b[0m                     \u001b[0mmethod\u001b[0m\u001b[1;33m=\u001b[0m\u001b[0mrequest\u001b[0m\u001b[1;33m.\u001b[0m\u001b[0mmethod\u001b[0m\u001b[1;33m,\u001b[0m\u001b[1;33m\u001b[0m\u001b[1;33m\u001b[0m\u001b[0m\n\u001b[0;32m    441\u001b[0m                     \u001b[0murl\u001b[0m\u001b[1;33m=\u001b[0m\u001b[0murl\u001b[0m\u001b[1;33m,\u001b[0m\u001b[1;33m\u001b[0m\u001b[1;33m\u001b[0m\u001b[0m\n",
      "\u001b[1;32m~\\anaconda3\\lib\\site-packages\\urllib3\\connectionpool.py\u001b[0m in \u001b[0;36murlopen\u001b[1;34m(self, method, url, body, headers, retries, redirect, assert_same_host, timeout, pool_timeout, release_conn, chunked, body_pos, **response_kw)\u001b[0m\n\u001b[0;32m    668\u001b[0m \u001b[1;33m\u001b[0m\u001b[0m\n\u001b[0;32m    669\u001b[0m             \u001b[1;31m# Make the request on the httplib connection object.\u001b[0m\u001b[1;33m\u001b[0m\u001b[1;33m\u001b[0m\u001b[1;33m\u001b[0m\u001b[0m\n\u001b[1;32m--> 670\u001b[1;33m             httplib_response = self._make_request(\n\u001b[0m\u001b[0;32m    671\u001b[0m                 \u001b[0mconn\u001b[0m\u001b[1;33m,\u001b[0m\u001b[1;33m\u001b[0m\u001b[1;33m\u001b[0m\u001b[0m\n\u001b[0;32m    672\u001b[0m                 \u001b[0mmethod\u001b[0m\u001b[1;33m,\u001b[0m\u001b[1;33m\u001b[0m\u001b[1;33m\u001b[0m\u001b[0m\n",
      "\u001b[1;32m~\\anaconda3\\lib\\site-packages\\urllib3\\connectionpool.py\u001b[0m in \u001b[0;36m_make_request\u001b[1;34m(self, conn, method, url, timeout, chunked, **httplib_request_kw)\u001b[0m\n\u001b[0;32m    424\u001b[0m                     \u001b[1;31m# Python 3 (including for exceptions like SystemExit).\u001b[0m\u001b[1;33m\u001b[0m\u001b[1;33m\u001b[0m\u001b[1;33m\u001b[0m\u001b[0m\n\u001b[0;32m    425\u001b[0m                     \u001b[1;31m# Otherwise it looks like a bug in the code.\u001b[0m\u001b[1;33m\u001b[0m\u001b[1;33m\u001b[0m\u001b[1;33m\u001b[0m\u001b[0m\n\u001b[1;32m--> 426\u001b[1;33m                     \u001b[0msix\u001b[0m\u001b[1;33m.\u001b[0m\u001b[0mraise_from\u001b[0m\u001b[1;33m(\u001b[0m\u001b[0me\u001b[0m\u001b[1;33m,\u001b[0m \u001b[1;32mNone\u001b[0m\u001b[1;33m)\u001b[0m\u001b[1;33m\u001b[0m\u001b[1;33m\u001b[0m\u001b[0m\n\u001b[0m\u001b[0;32m    427\u001b[0m         \u001b[1;32mexcept\u001b[0m \u001b[1;33m(\u001b[0m\u001b[0mSocketTimeout\u001b[0m\u001b[1;33m,\u001b[0m \u001b[0mBaseSSLError\u001b[0m\u001b[1;33m,\u001b[0m \u001b[0mSocketError\u001b[0m\u001b[1;33m)\u001b[0m \u001b[1;32mas\u001b[0m \u001b[0me\u001b[0m\u001b[1;33m:\u001b[0m\u001b[1;33m\u001b[0m\u001b[1;33m\u001b[0m\u001b[0m\n\u001b[0;32m    428\u001b[0m             \u001b[0mself\u001b[0m\u001b[1;33m.\u001b[0m\u001b[0m_raise_timeout\u001b[0m\u001b[1;33m(\u001b[0m\u001b[0merr\u001b[0m\u001b[1;33m=\u001b[0m\u001b[0me\u001b[0m\u001b[1;33m,\u001b[0m \u001b[0murl\u001b[0m\u001b[1;33m=\u001b[0m\u001b[0murl\u001b[0m\u001b[1;33m,\u001b[0m \u001b[0mtimeout_value\u001b[0m\u001b[1;33m=\u001b[0m\u001b[0mread_timeout\u001b[0m\u001b[1;33m)\u001b[0m\u001b[1;33m\u001b[0m\u001b[1;33m\u001b[0m\u001b[0m\n",
      "\u001b[1;32m~\\anaconda3\\lib\\site-packages\\urllib3\\packages\\six.py\u001b[0m in \u001b[0;36mraise_from\u001b[1;34m(value, from_value)\u001b[0m\n",
      "\u001b[1;32m~\\anaconda3\\lib\\site-packages\\urllib3\\connectionpool.py\u001b[0m in \u001b[0;36m_make_request\u001b[1;34m(self, conn, method, url, timeout, chunked, **httplib_request_kw)\u001b[0m\n\u001b[0;32m    419\u001b[0m                 \u001b[1;31m# Python 3\u001b[0m\u001b[1;33m\u001b[0m\u001b[1;33m\u001b[0m\u001b[1;33m\u001b[0m\u001b[0m\n\u001b[0;32m    420\u001b[0m                 \u001b[1;32mtry\u001b[0m\u001b[1;33m:\u001b[0m\u001b[1;33m\u001b[0m\u001b[1;33m\u001b[0m\u001b[0m\n\u001b[1;32m--> 421\u001b[1;33m                     \u001b[0mhttplib_response\u001b[0m \u001b[1;33m=\u001b[0m \u001b[0mconn\u001b[0m\u001b[1;33m.\u001b[0m\u001b[0mgetresponse\u001b[0m\u001b[1;33m(\u001b[0m\u001b[1;33m)\u001b[0m\u001b[1;33m\u001b[0m\u001b[1;33m\u001b[0m\u001b[0m\n\u001b[0m\u001b[0;32m    422\u001b[0m                 \u001b[1;32mexcept\u001b[0m \u001b[0mBaseException\u001b[0m \u001b[1;32mas\u001b[0m \u001b[0me\u001b[0m\u001b[1;33m:\u001b[0m\u001b[1;33m\u001b[0m\u001b[1;33m\u001b[0m\u001b[0m\n\u001b[0;32m    423\u001b[0m                     \u001b[1;31m# Remove the TypeError from the exception chain in\u001b[0m\u001b[1;33m\u001b[0m\u001b[1;33m\u001b[0m\u001b[1;33m\u001b[0m\u001b[0m\n",
      "\u001b[1;32m~\\anaconda3\\lib\\http\\client.py\u001b[0m in \u001b[0;36mgetresponse\u001b[1;34m(self)\u001b[0m\n\u001b[0;32m   1345\u001b[0m         \u001b[1;32mtry\u001b[0m\u001b[1;33m:\u001b[0m\u001b[1;33m\u001b[0m\u001b[1;33m\u001b[0m\u001b[0m\n\u001b[0;32m   1346\u001b[0m             \u001b[1;32mtry\u001b[0m\u001b[1;33m:\u001b[0m\u001b[1;33m\u001b[0m\u001b[1;33m\u001b[0m\u001b[0m\n\u001b[1;32m-> 1347\u001b[1;33m                 \u001b[0mresponse\u001b[0m\u001b[1;33m.\u001b[0m\u001b[0mbegin\u001b[0m\u001b[1;33m(\u001b[0m\u001b[1;33m)\u001b[0m\u001b[1;33m\u001b[0m\u001b[1;33m\u001b[0m\u001b[0m\n\u001b[0m\u001b[0;32m   1348\u001b[0m             \u001b[1;32mexcept\u001b[0m \u001b[0mConnectionError\u001b[0m\u001b[1;33m:\u001b[0m\u001b[1;33m\u001b[0m\u001b[1;33m\u001b[0m\u001b[0m\n\u001b[0;32m   1349\u001b[0m                 \u001b[0mself\u001b[0m\u001b[1;33m.\u001b[0m\u001b[0mclose\u001b[0m\u001b[1;33m(\u001b[0m\u001b[1;33m)\u001b[0m\u001b[1;33m\u001b[0m\u001b[1;33m\u001b[0m\u001b[0m\n",
      "\u001b[1;32m~\\anaconda3\\lib\\http\\client.py\u001b[0m in \u001b[0;36mbegin\u001b[1;34m(self)\u001b[0m\n\u001b[0;32m    305\u001b[0m         \u001b[1;31m# read until we get a non-100 response\u001b[0m\u001b[1;33m\u001b[0m\u001b[1;33m\u001b[0m\u001b[1;33m\u001b[0m\u001b[0m\n\u001b[0;32m    306\u001b[0m         \u001b[1;32mwhile\u001b[0m \u001b[1;32mTrue\u001b[0m\u001b[1;33m:\u001b[0m\u001b[1;33m\u001b[0m\u001b[1;33m\u001b[0m\u001b[0m\n\u001b[1;32m--> 307\u001b[1;33m             \u001b[0mversion\u001b[0m\u001b[1;33m,\u001b[0m \u001b[0mstatus\u001b[0m\u001b[1;33m,\u001b[0m \u001b[0mreason\u001b[0m \u001b[1;33m=\u001b[0m \u001b[0mself\u001b[0m\u001b[1;33m.\u001b[0m\u001b[0m_read_status\u001b[0m\u001b[1;33m(\u001b[0m\u001b[1;33m)\u001b[0m\u001b[1;33m\u001b[0m\u001b[1;33m\u001b[0m\u001b[0m\n\u001b[0m\u001b[0;32m    308\u001b[0m             \u001b[1;32mif\u001b[0m \u001b[0mstatus\u001b[0m \u001b[1;33m!=\u001b[0m \u001b[0mCONTINUE\u001b[0m\u001b[1;33m:\u001b[0m\u001b[1;33m\u001b[0m\u001b[1;33m\u001b[0m\u001b[0m\n\u001b[0;32m    309\u001b[0m                 \u001b[1;32mbreak\u001b[0m\u001b[1;33m\u001b[0m\u001b[1;33m\u001b[0m\u001b[0m\n",
      "\u001b[1;32m~\\anaconda3\\lib\\http\\client.py\u001b[0m in \u001b[0;36m_read_status\u001b[1;34m(self)\u001b[0m\n\u001b[0;32m    266\u001b[0m \u001b[1;33m\u001b[0m\u001b[0m\n\u001b[0;32m    267\u001b[0m     \u001b[1;32mdef\u001b[0m \u001b[0m_read_status\u001b[0m\u001b[1;33m(\u001b[0m\u001b[0mself\u001b[0m\u001b[1;33m)\u001b[0m\u001b[1;33m:\u001b[0m\u001b[1;33m\u001b[0m\u001b[1;33m\u001b[0m\u001b[0m\n\u001b[1;32m--> 268\u001b[1;33m         \u001b[0mline\u001b[0m \u001b[1;33m=\u001b[0m \u001b[0mstr\u001b[0m\u001b[1;33m(\u001b[0m\u001b[0mself\u001b[0m\u001b[1;33m.\u001b[0m\u001b[0mfp\u001b[0m\u001b[1;33m.\u001b[0m\u001b[0mreadline\u001b[0m\u001b[1;33m(\u001b[0m\u001b[0m_MAXLINE\u001b[0m \u001b[1;33m+\u001b[0m \u001b[1;36m1\u001b[0m\u001b[1;33m)\u001b[0m\u001b[1;33m,\u001b[0m \u001b[1;34m\"iso-8859-1\"\u001b[0m\u001b[1;33m)\u001b[0m\u001b[1;33m\u001b[0m\u001b[1;33m\u001b[0m\u001b[0m\n\u001b[0m\u001b[0;32m    269\u001b[0m         \u001b[1;32mif\u001b[0m \u001b[0mlen\u001b[0m\u001b[1;33m(\u001b[0m\u001b[0mline\u001b[0m\u001b[1;33m)\u001b[0m \u001b[1;33m>\u001b[0m \u001b[0m_MAXLINE\u001b[0m\u001b[1;33m:\u001b[0m\u001b[1;33m\u001b[0m\u001b[1;33m\u001b[0m\u001b[0m\n\u001b[0;32m    270\u001b[0m             \u001b[1;32mraise\u001b[0m \u001b[0mLineTooLong\u001b[0m\u001b[1;33m(\u001b[0m\u001b[1;34m\"status line\"\u001b[0m\u001b[1;33m)\u001b[0m\u001b[1;33m\u001b[0m\u001b[1;33m\u001b[0m\u001b[0m\n",
      "\u001b[1;32m~\\anaconda3\\lib\\socket.py\u001b[0m in \u001b[0;36mreadinto\u001b[1;34m(self, b)\u001b[0m\n\u001b[0;32m    667\u001b[0m         \u001b[1;32mwhile\u001b[0m \u001b[1;32mTrue\u001b[0m\u001b[1;33m:\u001b[0m\u001b[1;33m\u001b[0m\u001b[1;33m\u001b[0m\u001b[0m\n\u001b[0;32m    668\u001b[0m             \u001b[1;32mtry\u001b[0m\u001b[1;33m:\u001b[0m\u001b[1;33m\u001b[0m\u001b[1;33m\u001b[0m\u001b[0m\n\u001b[1;32m--> 669\u001b[1;33m                 \u001b[1;32mreturn\u001b[0m \u001b[0mself\u001b[0m\u001b[1;33m.\u001b[0m\u001b[0m_sock\u001b[0m\u001b[1;33m.\u001b[0m\u001b[0mrecv_into\u001b[0m\u001b[1;33m(\u001b[0m\u001b[0mb\u001b[0m\u001b[1;33m)\u001b[0m\u001b[1;33m\u001b[0m\u001b[1;33m\u001b[0m\u001b[0m\n\u001b[0m\u001b[0;32m    670\u001b[0m             \u001b[1;32mexcept\u001b[0m \u001b[0mtimeout\u001b[0m\u001b[1;33m:\u001b[0m\u001b[1;33m\u001b[0m\u001b[1;33m\u001b[0m\u001b[0m\n\u001b[0;32m    671\u001b[0m                 \u001b[0mself\u001b[0m\u001b[1;33m.\u001b[0m\u001b[0m_timeout_occurred\u001b[0m \u001b[1;33m=\u001b[0m \u001b[1;32mTrue\u001b[0m\u001b[1;33m\u001b[0m\u001b[1;33m\u001b[0m\u001b[0m\n",
      "\u001b[1;32m~\\anaconda3\\lib\\ssl.py\u001b[0m in \u001b[0;36mrecv_into\u001b[1;34m(self, buffer, nbytes, flags)\u001b[0m\n\u001b[0;32m   1239\u001b[0m                   \u001b[1;34m\"non-zero flags not allowed in calls to recv_into() on %s\"\u001b[0m \u001b[1;33m%\u001b[0m\u001b[1;33m\u001b[0m\u001b[1;33m\u001b[0m\u001b[0m\n\u001b[0;32m   1240\u001b[0m                   self.__class__)\n\u001b[1;32m-> 1241\u001b[1;33m             \u001b[1;32mreturn\u001b[0m \u001b[0mself\u001b[0m\u001b[1;33m.\u001b[0m\u001b[0mread\u001b[0m\u001b[1;33m(\u001b[0m\u001b[0mnbytes\u001b[0m\u001b[1;33m,\u001b[0m \u001b[0mbuffer\u001b[0m\u001b[1;33m)\u001b[0m\u001b[1;33m\u001b[0m\u001b[1;33m\u001b[0m\u001b[0m\n\u001b[0m\u001b[0;32m   1242\u001b[0m         \u001b[1;32melse\u001b[0m\u001b[1;33m:\u001b[0m\u001b[1;33m\u001b[0m\u001b[1;33m\u001b[0m\u001b[0m\n\u001b[0;32m   1243\u001b[0m             \u001b[1;32mreturn\u001b[0m \u001b[0msuper\u001b[0m\u001b[1;33m(\u001b[0m\u001b[1;33m)\u001b[0m\u001b[1;33m.\u001b[0m\u001b[0mrecv_into\u001b[0m\u001b[1;33m(\u001b[0m\u001b[0mbuffer\u001b[0m\u001b[1;33m,\u001b[0m \u001b[0mnbytes\u001b[0m\u001b[1;33m,\u001b[0m \u001b[0mflags\u001b[0m\u001b[1;33m)\u001b[0m\u001b[1;33m\u001b[0m\u001b[1;33m\u001b[0m\u001b[0m\n",
      "\u001b[1;32m~\\anaconda3\\lib\\ssl.py\u001b[0m in \u001b[0;36mread\u001b[1;34m(self, len, buffer)\u001b[0m\n\u001b[0;32m   1097\u001b[0m         \u001b[1;32mtry\u001b[0m\u001b[1;33m:\u001b[0m\u001b[1;33m\u001b[0m\u001b[1;33m\u001b[0m\u001b[0m\n\u001b[0;32m   1098\u001b[0m             \u001b[1;32mif\u001b[0m \u001b[0mbuffer\u001b[0m \u001b[1;32mis\u001b[0m \u001b[1;32mnot\u001b[0m \u001b[1;32mNone\u001b[0m\u001b[1;33m:\u001b[0m\u001b[1;33m\u001b[0m\u001b[1;33m\u001b[0m\u001b[0m\n\u001b[1;32m-> 1099\u001b[1;33m                 \u001b[1;32mreturn\u001b[0m \u001b[0mself\u001b[0m\u001b[1;33m.\u001b[0m\u001b[0m_sslobj\u001b[0m\u001b[1;33m.\u001b[0m\u001b[0mread\u001b[0m\u001b[1;33m(\u001b[0m\u001b[0mlen\u001b[0m\u001b[1;33m,\u001b[0m \u001b[0mbuffer\u001b[0m\u001b[1;33m)\u001b[0m\u001b[1;33m\u001b[0m\u001b[1;33m\u001b[0m\u001b[0m\n\u001b[0m\u001b[0;32m   1100\u001b[0m             \u001b[1;32melse\u001b[0m\u001b[1;33m:\u001b[0m\u001b[1;33m\u001b[0m\u001b[1;33m\u001b[0m\u001b[0m\n\u001b[0;32m   1101\u001b[0m                 \u001b[1;32mreturn\u001b[0m \u001b[0mself\u001b[0m\u001b[1;33m.\u001b[0m\u001b[0m_sslobj\u001b[0m\u001b[1;33m.\u001b[0m\u001b[0mread\u001b[0m\u001b[1;33m(\u001b[0m\u001b[0mlen\u001b[0m\u001b[1;33m)\u001b[0m\u001b[1;33m\u001b[0m\u001b[1;33m\u001b[0m\u001b[0m\n",
      "\u001b[1;31mKeyboardInterrupt\u001b[0m: "
     ]
    }
   ],
   "source": [
    "tmps1=time.time()\n",
    "\n",
    "food_infos = []\n",
    "for j in range(80000, len(all_products_list)):\n",
    "    try:\n",
    "        res = requests.get(all_products_list[j], headers = headers)\n",
    "        soupProduct = BeautifulSoup(res.text, 'html.parser')\n",
    "        contentInfos = soupProduct.find_all('div', attrs={'itemscope':'', 'itemtype':'https://schema.org/Product'})[0] if len(soupProduct.find_all('div', attrs={'itemscope':'', 'itemtype':'https://schema.org/Product'})) else soupProduct.find_all('div', attrs={'itemscope':'', 'itemtype':'https://schema.org/DietarySupplement'})[0] if len(soupProduct.find_all('div', attrs={'itemscope':'', 'itemtype':'https://schema.org/Product'})[0] if len(soupProduct.find_all('div', attrs={'itemscope':'', 'itemtype':'https://schema.org/Product'})) else soupProduct.find_all('div', attrs={'itemscope':'', 'itemtype':'https://schema.org/DietarySupplement'})) else [] #### récupération de la balise qui contient les informations démandées\n",
    "        if len(contentInfos):\n",
    "            #### Nom du Produit\n",
    "            product_name = contentInfos.find_all('h1', attrs={'property':'food:name'})[0].text\n",
    "\n",
    "            #### Code-barres (EAN/EAN-13)\n",
    "            code_barre = contentInfos.find_all('span', attrs={'property':'food:code'})[0].text if index_in_list(contentInfos.find_all('span', attrs={'property':'food:code'}),0) else 'XXX'\n",
    "            \n",
    "            #### nova score\n",
    "            novascore = contentInfos.find_all('a',href='/nova')[1].find('img')['alt'].split('-')[0].strip() if index_in_list(contentInfos.find_all('a',href='/nova'),1) else 'XXX'\n",
    "            \n",
    "            #### nutriscore\n",
    "            nutriscore = contentInfos.find_all('a',href='/nutriscore')[1].find('img')['alt'].split(':')[1].strip() if index_in_list(contentInfos.find_all('a',href='/nutriscore'),1) else 'XXX'\n",
    "            \n",
    "            #### ecoscore\n",
    "            ecoscore = contentInfos.find_all('a',href='/ecoscore')[2].find('img')['alt'].split(' ')[1].strip() if index_in_list(contentInfos.find_all('a',href='/ecoscore'),1) else 'XXX'\n",
    "            \n",
    "            #### caractéristiques des produits\n",
    "            caracteristicsContent = contentInfos.find_all('div', attrs={'class':'medium-12 large-8 xlarge-8 xxlarge-8 columns'})[0] #### block qui contient les informations sur les caractéristiques d'un produit\n",
    "            caracteristic_list_value = caracteristicsContent.findAll('p') #### on récupère le bloc qui contient les caractéristiques des produits\n",
    "            caracteristics = build_caracteritics_product_values(labels_caracteristic_id, caracteristic_list_value) #### on construit un dictionnaire avec les valeurs trouvées\n",
    "            denomination_generique = caracteristics['denomination_generique']\n",
    "            quantite = caracteristics['quantite']\n",
    "            conditionnement = caracteristics['conditionnement']\n",
    "            marques = caracteristics['marques']\n",
    "            categories = caracteristics['categories']\n",
    "            labels_certifications_recompenses = caracteristics['labels_certifications_recompenses']\n",
    "            origine_des_ingredients = caracteristics['origine_des_ingredients']\n",
    "            lieux_de_fabrication_ou_de_transformation = caracteristics['lieux_de_fabrication_ou_de_transformation']\n",
    "            code_de_tracabilite = caracteristics['code_de_tracabilite']\n",
    "            lien_vers_la_page_du_produit_sur_le_site_officiel_du_fabricant = caracteristics['lien_vers_la_page_du_produit_sur_le_site_officiel_du_fabricant']\n",
    "            magasins = caracteristics['magasins']\n",
    "            pays_de_vente = caracteristics['pays_de_vente']\n",
    "\n",
    "            ingredientsContent = contentInfos.find_all('div', attrs={'class':'medium-12 large-8 xlarge-8 xxlarge-8 columns'})[1]\n",
    "\n",
    "            #### Substances ou produits provoquant des allergies ou intolérances :\n",
    "            sub_trace_list = ingredientsContent.find_all('p', attrs={'class':'', 'id':''})[:2]\n",
    "            substances_ou_produits_provoquant_des_allergies_ou_intolerances = build_caracteritics_product_values(labels_sub_trace_id, sub_trace_list)['substances_ou_produits_provoquant_des_allergies_ou_intolerances']\n",
    "            traces_eventuelles = build_caracteritics_product_values(labels_sub_trace_id, sub_trace_list)['traces_eventuelles']\n",
    "\n",
    "            #### Analyse des ingrédients :\n",
    "            ingredients_analysis = ingredientsContent.find_all('p', attrs={'id':'ingredients_analysis'})\n",
    "            ingredients_analysis = get_ingredient_analysis(ingredients_analysis)['ingredients_analysis']\n",
    "\n",
    "            #### Détail de l'analyse des ingrédients:\n",
    "            detail_analysis = ingredientsContent.find_all('div', attrs={'class':'columns'})\n",
    "            additifs = build_caracteritics_product_values(labels_details_analysis, detail_analysis)['additifs']\n",
    "            vitamines_ajoutees = build_caracteritics_product_values(labels_details_analysis, detail_analysis)['vitamines_ajoutees']\n",
    "            mineraux_ajoutes = build_caracteritics_product_values(labels_details_analysis, detail_analysis)['mineraux_ajoutes']\n",
    "\n",
    "            #### Repères nutritionnels pour 100 g\n",
    "            nutritionnelle_content = contentInfos.find_all('div', attrs={'class':'medium-12 large-8 xlarge-8 xxlarge-8 columns'})[2] if len(contentInfos.find_all('div', attrs={'class':'medium-12 large-8 xlarge-8 xxlarge-8 columns'})) != 0 else []\n",
    "            repere_nutri = parse_string(nutritionnelle_content.find_all('div', attrs={'class':'small-12 xlarge-6 columns'})[1].text).split(',,,,')[1].strip() if index_in_list(nutritionnelle_content.find_all('div', attrs={'class':'small-12 xlarge-6 columns'}),1) and index_in_list((nutritionnelle_content.find_all('div', attrs={'class':'small-12 xlarge-6 columns'})[1].text).split(',,,,'),1) else 'XXX'        \n",
    "            compare_label_list = list(map(lambda x: parse_string(x.text), nutritionnelle_content.find_all('label')))[:-2] if len(nutritionnelle_content) != 0 else [] \n",
    "            compare_value_list = list(map(lambda x:x.text.strip(), nutritionnelle_content.find_all('a' , attrs={'title':''}))) if nutritionnelle_content.find_all('a' , attrs={'title':''}) and len(nutritionnelle_content) else []\n",
    "            reperes_nutritionnels = get_compare_value(compare_label_list, compare_value_list)\n",
    "\n",
    "            #### table information nutritionnelle\n",
    "            nutritionnelle_content = contentInfos.find_all('div', attrs={'class':'medium-12 large-8 xlarge-8 xxlarge-8 columns'})[2] if len(contentInfos.find_all('div', attrs={'class':'medium-12 large-8 xlarge-8 xxlarge-8 columns'})) != 0 else []\n",
    "            nutritionnelle_table = nutritionnelle_content.find_all('table', attrs={'id':'nutrition_data_table', 'class':'data_table'})[0] if nutritionnelle_content and nutritionnelle_content.find_all('table', attrs={'id':'nutrition_data_table', 'class':'data_table'}) else []\n",
    "            tr_table = nutritionnelle_table.find_all('tr', attrs={'class':'nutriment_main'}) if len(nutritionnelle_table) and nutritionnelle_table.find_all('tr', attrs={'class':'nutriment_main'}) else []\n",
    "            energie_kj = get_infos_nutri(tr_table)['energie_kj'] if 'energie_kj' in get_infos_nutri(tr_table) else 'XXX'\n",
    "            energie_kcal = get_infos_nutri(tr_table)['energie_kcal'] if 'energie_kcal' in get_infos_nutri(tr_table) else 'XXX'\n",
    "            energie = get_infos_nutri(tr_table)['energie'] if 'energie' in get_infos_nutri(tr_table) else 'XXX'\n",
    "            matieres_grasses__lipides = get_infos_nutri(tr_table)['matieres_grasses__lipides'] if energie_kj in get_infos_nutri(tr_table) else 'XXX'\n",
    "            glucides = get_infos_nutri(tr_table)['glucides'] if 'glucides' in get_infos_nutri(tr_table) else 'XXX'\n",
    "            proteines = get_infos_nutri(tr_table)['proteines'] if 'proteines' in get_infos_nutri(tr_table) else 'XXX'\n",
    "            silice = get_infos_nutri(tr_table)['silice'] if 'silice' in get_infos_nutri(tr_table) else 'XXX'\n",
    "            potassium = get_infos_nutri(tr_table)['potassium'] if 'potassium' in get_infos_nutri(tr_table) else 'XXX'\n",
    "            chlorure = get_infos_nutri(tr_table)['chlorure'] if 'chlorure' in get_infos_nutri(tr_table) else 'XXX'\n",
    "            calcium = get_infos_nutri(tr_table)['calcium'] if 'calcium' in get_infos_nutri(tr_table) else 'XXX'\n",
    "            ph = get_infos_nutri(tr_table)['ph'] if 'ph' in get_infos_nutri(tr_table)else 'XXX'\n",
    "            sel = get_infos_nutri(tr_table)['sel'] if 'sel' in get_infos_nutri(tr_table) else 'XXX'\n",
    "            fibres_alimentaires = get_infos_nutri(tr_table)['fibres_alimentaires'] if 'fibres_alimentaires' in get_infos_nutri(tr_table) else 'XXX'\n",
    "            alcool = get_infos_nutri(tr_table)['alcool'] if 'alcool' in get_infos_nutri(tr_table) else 'XXX'\n",
    "            bicarbonate = get_infos_nutri(tr_table)['bicarbonate'] if 'bicarbonate' in get_infos_nutri(tr_table) else 'XXX'\n",
    "            fluorure = get_infos_nutri(tr_table)['fluorure'] if 'fluorure' in get_infos_nutri(tr_table) else 'XXX'\n",
    "            nitrate = get_infos_nutri(tr_table)['nitrate'] if 'nitrate' in get_infos_nutri(tr_table) else 'XXX'\n",
    "            sulfate = get_infos_nutri(tr_table)['sulfate'] if 'sulfate' in get_infos_nutri(tr_table) else 'XXX'\n",
    "            score_nutritionnel_france = get_infos_nutri(tr_table)['score_nutritionnel_-_france'] if 'score_nutritionnel_-_france' in get_infos_nutri(tr_table) else 'XXX'\n",
    "\n",
    "            #### recyclage\n",
    "            recyclage_content = contentInfos.find_all('div', attrs={'class':'medium-12 large-8 xlarge-8 xxlarge-8 columns'})[3] if len(contentInfos) and contentInfos.find_all('div', attrs={'class':'medium-12 large-8 xlarge-8 xxlarge-8 columns'}) else []\n",
    "            recyclage = parse_string(recyclage_content.find('p').text) if len(recyclage_content) else 'XXX'\n",
    "\n",
    "            ingredientsContent = contentInfos.find_all('div', attrs={'class':'medium-12 large-8 xlarge-8 xxlarge-8 columns'})[1]\n",
    "            #### liste des ingrédients\n",
    "            ingredient_list = ingredientsContent.find_all('div', attrs={'property':'food:ingredientListAsText'})[0].text if ingredientsContent.find_all('div', attrs={'property':'food:ingredientListAsText'}) else 'XXX'\n",
    "\n",
    "            food_infos.append([product_name, \n",
    "                              code_barre, \n",
    "                              novascore, \n",
    "                              nutriscore, \n",
    "                              ecoscore,\n",
    "                              denomination_generique, \n",
    "                              quantite, \n",
    "                              conditionnement, \n",
    "                              marques, \n",
    "                              categories, \n",
    "                              labels_certifications_recompenses, \n",
    "                              origine_des_ingredients, \n",
    "                              lieux_de_fabrication_ou_de_transformation, \n",
    "                              code_de_tracabilite, \n",
    "                              lien_vers_la_page_du_produit_sur_le_site_officiel_du_fabricant, \n",
    "                              magasins, \n",
    "                              pays_de_vente, \n",
    "                              substances_ou_produits_provoquant_des_allergies_ou_intolerances, \n",
    "                              traces_eventuelles,\n",
    "                              ingredients_analysis, \n",
    "                              additifs, \n",
    "                              vitamines_ajoutees, \n",
    "                              mineraux_ajoutes, \n",
    "                              reperes_nutritionnels, \n",
    "                              energie_kj, \n",
    "                              energie_kcal, \n",
    "                              energie, \n",
    "                              matieres_grasses__lipides, \n",
    "                              glucides, \n",
    "                              proteines, \n",
    "                              sel,\n",
    "                              glucides,\n",
    "                              proteines,\n",
    "                              silice, \n",
    "                              potassium, \n",
    "                              chlorure, \n",
    "                              calcium, \n",
    "                              ph,\n",
    "                              fibres_alimentaires, \n",
    "                              alcool, \n",
    "                              bicarbonate, \n",
    "                              fluorure, \n",
    "                              nitrate, \n",
    "                              sulfate,\n",
    "                              score_nutritionnel_france, \n",
    "                              recyclage,\n",
    "                              ingredient_list])\n",
    "        else:\n",
    "            print(\"lien \"+str(i)+\" : \"+all_products_list[i])\n",
    "            \n",
    "    except Exception as e:\n",
    "        print(\"lien \"+str(i)+\" : \"+all_products_list[i])\n",
    "        print(e)\n",
    "        traceback.print_exc()\n",
    "        tmps2=time.time()-tmps1\n",
    "        print(\"Temps d'execution avant l'erreur = \"+convert(tmps2))\n",
    "        break\n",
    "\n",
    "tmps2=time.time()-tmps1\n",
    "print(\"Temps d'execution de scrapping des données des produits = \"+convert(tmps2))"
   ]
  },
  {
   "cell_type": "code",
   "execution_count": null,
   "metadata": {},
   "outputs": [],
   "source": [
    "len(food_infos) #### nombre d'éléments scrappé"
   ]
  },
  {
   "cell_type": "code",
   "execution_count": 226,
   "metadata": {},
   "outputs": [
    {
     "name": "stdout",
     "output_type": "stream",
     "text": [
      "Temps d'execution export csv dataframe food = 0h 00mn 01s\n"
     ]
    }
   ],
   "source": [
    "tmps1=time.time()\n",
    "\n",
    "#### export en csv des la liste des liens des produits trouvés\n",
    "import pandas as pd\n",
    "df = pd.DataFrame(food_infos, columns=['product_name', \n",
    "                                      'code_barre', \n",
    "                                      'novascore', \n",
    "                                      'nutriscore', \n",
    "                                      'ecoscore',\n",
    "                                      'denomination_generique', \n",
    "                                      'quantite', \n",
    "                                      'conditionnement', \n",
    "                                      'marques', \n",
    "                                      'categories', \n",
    "                                      'labels_certifications_recompenses', \n",
    "                                      'origine_des_ingredients', \n",
    "                                      'lieux_de_fabrication_ou_de_transformation', \n",
    "                                      'code_de_tracabilite', \n",
    "                                      'lien_vers_la_page_du_produit_sur_le_site_officiel_du_fabricant', \n",
    "                                      'magasins', \n",
    "                                      'pays_de_vente', \n",
    "                                      'substances_ou_produits_provoquant_des_allergies_ou_intolerances', \n",
    "                                      'traces_eventuelles',\n",
    "                                      'ingredients_analysis', \n",
    "                                      'additifs', \n",
    "                                      'vitamines_ajoutees', \n",
    "                                      'mineraux_ajoutes', \n",
    "                                      'reperes_nutritionnels', \n",
    "                                      'energie_kj', \n",
    "                                      'energie_kcal', \n",
    "                                      'energie', \n",
    "                                      'matieres_grasses__lipides', \n",
    "                                      'glucides', \n",
    "                                      'proteines', \n",
    "                                      'sel',\n",
    "                                      'glucides',\n",
    "                                      'proteines',\n",
    "                                      'silice', \n",
    "                                      'potassium', \n",
    "                                      'chlorure', \n",
    "                                      'calcium', \n",
    "                                      'ph',\n",
    "                                      'fibres_alimentaires', \n",
    "                                      'alcool', \n",
    "                                      'bicarbonate', \n",
    "                                      'fluorure', \n",
    "                                      'nitrate', \n",
    "                                      'sulfate',\n",
    "                                      'score_nutritionnel_france', \n",
    "                                      'recyclage',\n",
    "                                      'ingredient_list'\n",
    "                                      ])\n",
    "df.to_csv('DataframeFood.csv', index=False, encoding='utf-8')\n",
    "\n",
    "tmps2=time.time()-tmps1\n",
    "print(\"Temps d'execution export csv dataframe food = \"+convert(tmps2))"
   ]
  }
 ],
 "metadata": {
  "kernelspec": {
   "display_name": "Python 3",
   "language": "python",
   "name": "python3"
  },
  "language_info": {
   "codemirror_mode": {
    "name": "ipython",
    "version": 3
   },
   "file_extension": ".py",
   "mimetype": "text/x-python",
   "name": "python",
   "nbconvert_exporter": "python",
   "pygments_lexer": "ipython3",
   "version": "3.8.5"
  }
 },
 "nbformat": 4,
 "nbformat_minor": 4
}
